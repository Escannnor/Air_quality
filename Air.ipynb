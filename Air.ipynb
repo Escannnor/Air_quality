{
 "cells": [
  {
   "cell_type": "code",
   "execution_count": 1,
   "metadata": {},
   "outputs": [],
   "source": [
    "import pandas as pd"
   ]
  },
  {
   "cell_type": "code",
   "execution_count": 4,
   "metadata": {},
   "outputs": [
    {
     "data": {
      "text/html": [
       "<div>\n",
       "<style scoped>\n",
       "    .dataframe tbody tr th:only-of-type {\n",
       "        vertical-align: middle;\n",
       "    }\n",
       "\n",
       "    .dataframe tbody tr th {\n",
       "        vertical-align: top;\n",
       "    }\n",
       "\n",
       "    .dataframe thead th {\n",
       "        text-align: right;\n",
       "    }\n",
       "</style>\n",
       "<table border=\"1\" class=\"dataframe\">\n",
       "  <thead>\n",
       "    <tr style=\"text-align: right;\">\n",
       "      <th></th>\n",
       "      <th>datetime</th>\n",
       "      <th>station_antwerp</th>\n",
       "      <th>station_paris</th>\n",
       "      <th>station_london</th>\n",
       "    </tr>\n",
       "  </thead>\n",
       "  <tbody>\n",
       "    <tr>\n",
       "      <th>0</th>\n",
       "      <td>2019-05-07 02:00:00</td>\n",
       "      <td>NaN</td>\n",
       "      <td>NaN</td>\n",
       "      <td>23.0</td>\n",
       "    </tr>\n",
       "    <tr>\n",
       "      <th>1</th>\n",
       "      <td>2019-05-07 03:00:00</td>\n",
       "      <td>50.5</td>\n",
       "      <td>25.0</td>\n",
       "      <td>19.0</td>\n",
       "    </tr>\n",
       "    <tr>\n",
       "      <th>2</th>\n",
       "      <td>2019-05-07 04:00:00</td>\n",
       "      <td>45.0</td>\n",
       "      <td>27.7</td>\n",
       "      <td>19.0</td>\n",
       "    </tr>\n",
       "    <tr>\n",
       "      <th>3</th>\n",
       "      <td>2019-05-07 05:00:00</td>\n",
       "      <td>NaN</td>\n",
       "      <td>50.4</td>\n",
       "      <td>16.0</td>\n",
       "    </tr>\n",
       "    <tr>\n",
       "      <th>4</th>\n",
       "      <td>2019-05-07 06:00:00</td>\n",
       "      <td>NaN</td>\n",
       "      <td>61.9</td>\n",
       "      <td>NaN</td>\n",
       "    </tr>\n",
       "    <tr>\n",
       "      <th>...</th>\n",
       "      <td>...</td>\n",
       "      <td>...</td>\n",
       "      <td>...</td>\n",
       "      <td>...</td>\n",
       "    </tr>\n",
       "    <tr>\n",
       "      <th>1030</th>\n",
       "      <td>2019-06-20 22:00:00</td>\n",
       "      <td>NaN</td>\n",
       "      <td>21.4</td>\n",
       "      <td>NaN</td>\n",
       "    </tr>\n",
       "    <tr>\n",
       "      <th>1031</th>\n",
       "      <td>2019-06-20 23:00:00</td>\n",
       "      <td>NaN</td>\n",
       "      <td>24.9</td>\n",
       "      <td>NaN</td>\n",
       "    </tr>\n",
       "    <tr>\n",
       "      <th>1032</th>\n",
       "      <td>2019-06-21 00:00:00</td>\n",
       "      <td>NaN</td>\n",
       "      <td>26.5</td>\n",
       "      <td>NaN</td>\n",
       "    </tr>\n",
       "    <tr>\n",
       "      <th>1033</th>\n",
       "      <td>2019-06-21 01:00:00</td>\n",
       "      <td>NaN</td>\n",
       "      <td>21.8</td>\n",
       "      <td>NaN</td>\n",
       "    </tr>\n",
       "    <tr>\n",
       "      <th>1034</th>\n",
       "      <td>2019-06-21 02:00:00</td>\n",
       "      <td>NaN</td>\n",
       "      <td>20.0</td>\n",
       "      <td>NaN</td>\n",
       "    </tr>\n",
       "  </tbody>\n",
       "</table>\n",
       "<p>1035 rows × 4 columns</p>\n",
       "</div>"
      ],
      "text/plain": [
       "                 datetime  station_antwerp  station_paris  station_london\n",
       "0     2019-05-07 02:00:00              NaN            NaN            23.0\n",
       "1     2019-05-07 03:00:00             50.5           25.0            19.0\n",
       "2     2019-05-07 04:00:00             45.0           27.7            19.0\n",
       "3     2019-05-07 05:00:00              NaN           50.4            16.0\n",
       "4     2019-05-07 06:00:00              NaN           61.9             NaN\n",
       "...                   ...              ...            ...             ...\n",
       "1030  2019-06-20 22:00:00              NaN           21.4             NaN\n",
       "1031  2019-06-20 23:00:00              NaN           24.9             NaN\n",
       "1032  2019-06-21 00:00:00              NaN           26.5             NaN\n",
       "1033  2019-06-21 01:00:00              NaN           21.8             NaN\n",
       "1034  2019-06-21 02:00:00              NaN           20.0             NaN\n",
       "\n",
       "[1035 rows x 4 columns]"
      ]
     },
     "execution_count": 4,
     "metadata": {},
     "output_type": "execute_result"
    }
   ],
   "source": [
    "AIR = pd.read_csv('air_quality_no2.csv')\n",
    "AIR"
   ]
  },
  {
   "cell_type": "code",
   "execution_count": 5,
   "metadata": {},
   "outputs": [
    {
     "data": {
      "text/plain": [
       "0       2019-05-07 02:00:00\n",
       "1       2019-05-07 03:00:00\n",
       "2       2019-05-07 04:00:00\n",
       "3       2019-05-07 05:00:00\n",
       "4       2019-05-07 06:00:00\n",
       "               ...         \n",
       "1030    2019-06-20 22:00:00\n",
       "1031    2019-06-20 23:00:00\n",
       "1032    2019-06-21 00:00:00\n",
       "1033    2019-06-21 01:00:00\n",
       "1034    2019-06-21 02:00:00\n",
       "Name: datetime, Length: 1035, dtype: object"
      ]
     },
     "execution_count": 5,
     "metadata": {},
     "output_type": "execute_result"
    }
   ],
   "source": [
    "datetime = AIR['datetime']\n",
    "\n",
    "datetime"
   ]
  },
  {
   "cell_type": "code",
   "execution_count": 7,
   "metadata": {},
   "outputs": [
    {
     "data": {
      "text/plain": [
       "0        NaN\n",
       "1       50.5\n",
       "2       45.0\n",
       "3        NaN\n",
       "4        NaN\n",
       "        ... \n",
       "1030     NaN\n",
       "1031     NaN\n",
       "1032     NaN\n",
       "1033     NaN\n",
       "1034     NaN\n",
       "Name: station_antwerp, Length: 1035, dtype: float64"
      ]
     },
     "execution_count": 7,
     "metadata": {},
     "output_type": "execute_result"
    }
   ],
   "source": [
    "stationantwerp = AIR['station_antwerp']\t\n",
    "stationantwerp"
   ]
  },
  {
   "cell_type": "code",
   "execution_count": 8,
   "metadata": {},
   "outputs": [
    {
     "data": {
      "text/plain": [
       "0        NaN\n",
       "1       25.0\n",
       "2       27.7\n",
       "3       50.4\n",
       "4       61.9\n",
       "        ... \n",
       "1030    21.4\n",
       "1031    24.9\n",
       "1032    26.5\n",
       "1033    21.8\n",
       "1034    20.0\n",
       "Name: station_paris, Length: 1035, dtype: float64"
      ]
     },
     "execution_count": 8,
     "metadata": {},
     "output_type": "execute_result"
    }
   ],
   "source": [
    "station_paris = AIR['station_paris']\n",
    "station_paris"
   ]
  },
  {
   "cell_type": "code",
   "execution_count": 9,
   "metadata": {},
   "outputs": [
    {
     "data": {
      "text/plain": [
       "0       23.0\n",
       "1       19.0\n",
       "2       19.0\n",
       "3       16.0\n",
       "4        NaN\n",
       "        ... \n",
       "1030     NaN\n",
       "1031     NaN\n",
       "1032     NaN\n",
       "1033     NaN\n",
       "1034     NaN\n",
       "Name: station_london, Length: 1035, dtype: float64"
      ]
     },
     "execution_count": 9,
     "metadata": {},
     "output_type": "execute_result"
    }
   ],
   "source": [
    "station_london = AIR['station_london']\n",
    "station_london"
   ]
  },
  {
   "cell_type": "code",
   "execution_count": 10,
   "metadata": {},
   "outputs": [],
   "source": [
    "AIR.to_excel('AIR.xlsx', sheet_name= 'Name', index=False)"
   ]
  },
  {
   "cell_type": "code",
   "execution_count": 11,
   "metadata": {},
   "outputs": [],
   "source": [
    "AIR = pd.read_excel('AIR.xlsx', sheet_name= 'Name')"
   ]
  }
 ],
 "metadata": {
  "kernelspec": {
   "display_name": "Python 3",
   "language": "python",
   "name": "python3"
  },
  "language_info": {
   "codemirror_mode": {
    "name": "ipython",
    "version": 3
   },
   "file_extension": ".py",
   "mimetype": "text/x-python",
   "name": "python",
   "nbconvert_exporter": "python",
   "pygments_lexer": "ipython3",
   "version": "3.12.1"
  }
 },
 "nbformat": 4,
 "nbformat_minor": 2
}
